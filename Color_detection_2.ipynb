{
 "cells": [
  {
   "cell_type": "markdown",
   "id": "a02c97bd",
   "metadata": {},
   "source": [
    "# Graduate Rotational Internship Program @The Sparks Foundation\n",
    "## **Author** : **Abhiram K M**\n",
    "### **Task 2** : Color Identification in Images\n",
    "\n",
    "* *Description : Implement an image color detector which identifies all the colors in an image or video*"
   ]
  },
  {
   "cell_type": "code",
   "execution_count": 1,
   "id": "physical-correlation",
   "metadata": {},
   "outputs": [],
   "source": [
    "import cv2\n",
    "import pandas as pd"
   ]
  },
  {
   "cell_type": "code",
   "execution_count": 2,
   "id": "personal-repository",
   "metadata": {},
   "outputs": [],
   "source": [
    "img_path = 'pic.jpg'\n",
    "img = cv2.imread(img_path)"
   ]
  },
  {
   "cell_type": "code",
   "execution_count": 3,
   "id": "looking-lottery",
   "metadata": {},
   "outputs": [],
   "source": [
    "# declaring global variables\n",
    "clicked = False                  #To make sure we have clicked on the image\n",
    "r = g = b = x_pos = y_pos = 0    #r,g,b values and mouse pointer position"
   ]
  },
  {
   "cell_type": "code",
   "execution_count": 4,
   "id": "perfect-sociology",
   "metadata": {},
   "outputs": [],
   "source": [
    "# reading csv file with pandas and giving names to each column\n",
    "index = ['color', 'color_name', 'hex', 'R', 'G', 'B']\n",
    "csv = pd.read_csv('colors.csv', names=index, header=None)"
   ]
  },
  {
   "cell_type": "code",
   "execution_count": 5,
   "id": "classical-sunset",
   "metadata": {},
   "outputs": [],
   "source": [
    "# function to calculate min dist from all colors and return color name\n",
    "def get_color_name(R,G,B):\n",
    "    minimum = 10000                          # minimum threshold value    \n",
    "    for i in range(len(csv)):                #loop through all the rows in dataset\n",
    "        d = abs(R - int(csv.loc[i, 'R'])) + abs(G - int(csv.loc[i, 'G'])) + abs(B - int(csv.loc[i, 'B']))\n",
    "        if d <= minimum:\n",
    "            minimum = d\n",
    "            cname = csv.loc[i, 'color_name']\n",
    "    return cname"
   ]
  },
  {
   "cell_type": "code",
   "execution_count": 6,
   "id": "toxic-thermal",
   "metadata": {},
   "outputs": [],
   "source": [
    "# function to calculate x,y coordinates of mouse double click\n",
    "def draw_function(event, x, y, flags, params):\n",
    "    if event == cv2.EVENT_LBUTTONDBLCLK:           # different clicks available\n",
    "        global b, g, r, x_pos, y_pos, clicked\n",
    "        clicked = True\n",
    "        x_pos = x\n",
    "        y_pos = y\n",
    "        b, g, r = img[y, x]                        # in opencv b,g,r used\n",
    "        b = int(b)\n",
    "        g = int(g)\n",
    "        r = int(r)\n",
    "\n",
    "cv2.namedWindow('image')                           # window that pops up after executing the code\n",
    "cv2.setMouseCallback('image', draw_function)       # setMouseCallback applied to get the x,y positions as well as r,g,b values"
   ]
  },
  {
   "cell_type": "code",
   "execution_count": 7,
   "id": "sized-toilet",
   "metadata": {},
   "outputs": [],
   "source": [
    "while True:\n",
    "    \n",
    "    cv2.imshow('image', img)\n",
    "    if clicked:\n",
    "        \n",
    "        #Arguments passed : image,start point,end point, color,thickness\n",
    "        cv2.rectangle(img, (20, 20), (750, 60), (b, g, r), -1)\n",
    "        \n",
    "        #Text to display color name and RGB values\n",
    "        text = get_color_name(r, g, b) + ' R=' + str(r) + ' G='+ str(g) + ' B='+ str(b)\n",
    "        \n",
    "        #Arguments passed : image,text,start,font,fontscale,color,thickness,linetype\n",
    "        cv2.putText(img, text, (50, 50), 2, 0.8, (255, 255, 255), 2, cv2.LINE_AA)\n",
    "\n",
    "        #for light colors giving text black color\n",
    "        if r+g+b >= 600:\n",
    "            cv2.putText(img, text, (50, 50), 2, 0.8, (0, 0, 0), 2, cv2.LINE_AA)\n",
    "\n",
    "    #Break the loop on pressing esc         \n",
    "    if cv2.waitKey(10) & 0xFF == 27:\n",
    "        break\n",
    "\n",
    "cv2.destroyAllWindows()"
   ]
  },
  {
   "cell_type": "code",
   "execution_count": null,
   "id": "ff11e3fd",
   "metadata": {},
   "outputs": [],
   "source": []
  }
 ],
 "metadata": {
  "kernelspec": {
   "display_name": "Python 3",
   "language": "python",
   "name": "python3"
  },
  "language_info": {
   "codemirror_mode": {
    "name": "ipython",
    "version": 3
   },
   "file_extension": ".py",
   "mimetype": "text/x-python",
   "name": "python",
   "nbconvert_exporter": "python",
   "pygments_lexer": "ipython3",
   "version": "3.8.8"
  }
 },
 "nbformat": 4,
 "nbformat_minor": 5
}
